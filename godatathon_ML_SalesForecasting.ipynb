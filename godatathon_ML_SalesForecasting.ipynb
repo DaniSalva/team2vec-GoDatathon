{
 "cells": [
  {
   "cell_type": "markdown",
   "metadata": {},
   "source": [
    "# Sales Forecasting challenge for Novartis Datathon\n",
    "- The dataset includes Jan 2012 – Dec 2017 anonymized data on sales, as well as Jan 2012 – Dec 2018 anonymized data on investments.\n",
    "- The challenge is to forecast 2018 sales per country per brand and per month.\n",
    "\n",
    "##### How close can you get to the real 2018 sales?"
   ]
  },
  {
   "cell_type": "code",
   "execution_count": 66,
   "metadata": {},
   "outputs": [],
   "source": [
    "import pandas as pd\n",
    "from sklearn.model_selection import train_test_split\n",
    "from keras.callbacks import EarlyStopping\n",
    "import numpy as np\n",
    "import warnings\n",
    "warnings.filterwarnings('ignore')"
   ]
  },
  {
   "cell_type": "code",
   "execution_count": 4,
   "metadata": {
    "scrolled": true
   },
   "outputs": [
    {
     "data": {
      "text/html": [
       "<div>\n",
       "<style scoped>\n",
       "    .dataframe tbody tr th:only-of-type {\n",
       "        vertical-align: middle;\n",
       "    }\n",
       "\n",
       "    .dataframe tbody tr th {\n",
       "        vertical-align: top;\n",
       "    }\n",
       "\n",
       "    .dataframe thead th {\n",
       "        text-align: right;\n",
       "    }\n",
       "</style>\n",
       "<table border=\"1\" class=\"dataframe\">\n",
       "  <thead>\n",
       "    <tr style=\"text-align: right;\">\n",
       "      <th></th>\n",
       "      <th>Cluster</th>\n",
       "      <th>Brand Group</th>\n",
       "      <th>Country</th>\n",
       "      <th>Function</th>\n",
       "      <th>Jan 2012</th>\n",
       "      <th>Feb 2012</th>\n",
       "      <th>Mar 2012</th>\n",
       "      <th>Unnamed: 7</th>\n",
       "      <th>Apr 2012</th>\n",
       "      <th>May 2012</th>\n",
       "      <th>...</th>\n",
       "      <th>Unnamed: 113</th>\n",
       "      <th>Jul 2018</th>\n",
       "      <th>Aug 2018</th>\n",
       "      <th>Sep 2018</th>\n",
       "      <th>Unnamed: 117</th>\n",
       "      <th>Oct 2018</th>\n",
       "      <th>Nov 2018</th>\n",
       "      <th>Dec 2018</th>\n",
       "      <th>Unnamed: 121</th>\n",
       "      <th>Unnamed: 122</th>\n",
       "    </tr>\n",
       "  </thead>\n",
       "  <tbody>\n",
       "    <tr>\n",
       "      <th>0</th>\n",
       "      <td>Cluster 3</td>\n",
       "      <td>Brand Group 12</td>\n",
       "      <td>Country 19</td>\n",
       "      <td>Sales 1</td>\n",
       "      <td>1861.328751</td>\n",
       "      <td>1995.945017</td>\n",
       "      <td>1998.533792</td>\n",
       "      <td>5855.807560</td>\n",
       "      <td>2019.243986</td>\n",
       "      <td>2425.681558</td>\n",
       "      <td>...</td>\n",
       "      <td>NaN</td>\n",
       "      <td>NaN</td>\n",
       "      <td>NaN</td>\n",
       "      <td>NaN</td>\n",
       "      <td>NaN</td>\n",
       "      <td>NaN</td>\n",
       "      <td>NaN</td>\n",
       "      <td>NaN</td>\n",
       "      <td>NaN</td>\n",
       "      <td>NaN</td>\n",
       "    </tr>\n",
       "    <tr>\n",
       "      <th>1</th>\n",
       "      <td>Cluster 3</td>\n",
       "      <td>Brand Group 12</td>\n",
       "      <td>Country 19</td>\n",
       "      <td>Sales 2</td>\n",
       "      <td>1316.247027</td>\n",
       "      <td>1450.223283</td>\n",
       "      <td>1440.837462</td>\n",
       "      <td>4207.307772</td>\n",
       "      <td>1564.066421</td>\n",
       "      <td>2014.132904</td>\n",
       "      <td>...</td>\n",
       "      <td>NaN</td>\n",
       "      <td>NaN</td>\n",
       "      <td>NaN</td>\n",
       "      <td>NaN</td>\n",
       "      <td>NaN</td>\n",
       "      <td>NaN</td>\n",
       "      <td>NaN</td>\n",
       "      <td>NaN</td>\n",
       "      <td>NaN</td>\n",
       "      <td>NaN</td>\n",
       "    </tr>\n",
       "  </tbody>\n",
       "</table>\n",
       "<p>2 rows × 123 columns</p>\n",
       "</div>"
      ],
      "text/plain": [
       "     Cluster     Brand Group     Country Function     Jan 2012     Feb 2012  \\\n",
       "0  Cluster 3  Brand Group 12  Country 19  Sales 1  1861.328751  1995.945017   \n",
       "1  Cluster 3  Brand Group 12  Country 19  Sales 2  1316.247027  1450.223283   \n",
       "\n",
       "      Mar 2012   Unnamed: 7     Apr 2012     May 2012      ...       \\\n",
       "0  1998.533792  5855.807560  2019.243986  2425.681558      ...        \n",
       "1  1440.837462  4207.307772  1564.066421  2014.132904      ...        \n",
       "\n",
       "   Unnamed: 113  Jul 2018  Aug 2018  Sep 2018  Unnamed: 117  Oct 2018  \\\n",
       "0           NaN       NaN       NaN       NaN           NaN       NaN   \n",
       "1           NaN       NaN       NaN       NaN           NaN       NaN   \n",
       "\n",
       "   Nov 2018  Dec 2018  Unnamed: 121  Unnamed: 122  \n",
       "0       NaN       NaN           NaN           NaN  \n",
       "1       NaN       NaN           NaN           NaN  \n",
       "\n",
       "[2 rows x 123 columns]"
      ]
     },
     "execution_count": 4,
     "metadata": {},
     "output_type": "execute_result"
    }
   ],
   "source": [
    "df=pd.read_excel(\"datathon.xlsx\",skiprows=3)\n",
    "df.head(2)"
   ]
  },
  {
   "cell_type": "markdown",
   "metadata": {},
   "source": [
    "##  Processing Sales Dataset\n",
    "- Delete \"Unnamed columns\" (Total per month)\n",
    "- Filter by \"Sales 2\" values.\n",
    "- Drop values from 2018 (nulls).\n",
    "- Group by (Cluster, Brand Group) and sum de values.\n",
    "- Make pivot table."
   ]
  },
  {
   "cell_type": "code",
   "execution_count": 7,
   "metadata": {},
   "outputs": [
    {
     "data": {
      "text/html": [
       "<div>\n",
       "<style scoped>\n",
       "    .dataframe tbody tr th:only-of-type {\n",
       "        vertical-align: middle;\n",
       "    }\n",
       "\n",
       "    .dataframe tbody tr th {\n",
       "        vertical-align: top;\n",
       "    }\n",
       "\n",
       "    .dataframe thead th {\n",
       "        text-align: right;\n",
       "    }\n",
       "</style>\n",
       "<table border=\"1\" class=\"dataframe\">\n",
       "  <thead>\n",
       "    <tr style=\"text-align: right;\">\n",
       "      <th></th>\n",
       "      <th></th>\n",
       "      <th>Jan 2012</th>\n",
       "      <th>Feb 2012</th>\n",
       "      <th>Mar 2012</th>\n",
       "      <th>Apr 2012</th>\n",
       "      <th>May 2012</th>\n",
       "      <th>Jun 2012</th>\n",
       "      <th>Jul 2012</th>\n",
       "      <th>Aug 2012</th>\n",
       "      <th>Sep 2012</th>\n",
       "      <th>Oct 2012</th>\n",
       "      <th>...</th>\n",
       "      <th>Mar 2017</th>\n",
       "      <th>Apr 2017</th>\n",
       "      <th>May 2017</th>\n",
       "      <th>Jun 2017</th>\n",
       "      <th>Jul 2017</th>\n",
       "      <th>Aug 2017</th>\n",
       "      <th>Sep 2017</th>\n",
       "      <th>Oct 2017</th>\n",
       "      <th>Nov 2017</th>\n",
       "      <th>Dec 2017</th>\n",
       "    </tr>\n",
       "    <tr>\n",
       "      <th>Cluster</th>\n",
       "      <th>Brand Group</th>\n",
       "      <th></th>\n",
       "      <th></th>\n",
       "      <th></th>\n",
       "      <th></th>\n",
       "      <th></th>\n",
       "      <th></th>\n",
       "      <th></th>\n",
       "      <th></th>\n",
       "      <th></th>\n",
       "      <th></th>\n",
       "      <th></th>\n",
       "      <th></th>\n",
       "      <th></th>\n",
       "      <th></th>\n",
       "      <th></th>\n",
       "      <th></th>\n",
       "      <th></th>\n",
       "      <th></th>\n",
       "      <th></th>\n",
       "      <th></th>\n",
       "      <th></th>\n",
       "    </tr>\n",
       "  </thead>\n",
       "  <tbody>\n",
       "    <tr>\n",
       "      <th rowspan=\"2\" valign=\"top\">Cluster 1</th>\n",
       "      <th>Brand Group 12</th>\n",
       "      <td>616.408961</td>\n",
       "      <td>685.081035</td>\n",
       "      <td>968.93887</td>\n",
       "      <td>723.701936</td>\n",
       "      <td>656.607506</td>\n",
       "      <td>319.401731</td>\n",
       "      <td>953.191022</td>\n",
       "      <td>658.304347</td>\n",
       "      <td>837.083837</td>\n",
       "      <td>943.346418</td>\n",
       "      <td>...</td>\n",
       "      <td>1494.614561</td>\n",
       "      <td>1583.525099</td>\n",
       "      <td>1396.117515</td>\n",
       "      <td>1471.551885</td>\n",
       "      <td>1632.173591</td>\n",
       "      <td>1627.574308</td>\n",
       "      <td>1608.715411</td>\n",
       "      <td>1538.061964</td>\n",
       "      <td>1574.399619</td>\n",
       "      <td>1381.174249</td>\n",
       "    </tr>\n",
       "    <tr>\n",
       "      <th>Brand Group 13</th>\n",
       "      <td>62.381470</td>\n",
       "      <td>69.445132</td>\n",
       "      <td>42.08108</td>\n",
       "      <td>55.139918</td>\n",
       "      <td>65.677360</td>\n",
       "      <td>36.194606</td>\n",
       "      <td>46.670999</td>\n",
       "      <td>62.483972</td>\n",
       "      <td>49.465439</td>\n",
       "      <td>58.313315</td>\n",
       "      <td>...</td>\n",
       "      <td>5.496543</td>\n",
       "      <td>14.480741</td>\n",
       "      <td>9.765432</td>\n",
       "      <td>11.746420</td>\n",
       "      <td>7.310123</td>\n",
       "      <td>10.965185</td>\n",
       "      <td>5.803457</td>\n",
       "      <td>5.608148</td>\n",
       "      <td>8.537778</td>\n",
       "      <td>6.361481</td>\n",
       "    </tr>\n",
       "  </tbody>\n",
       "</table>\n",
       "<p>2 rows × 72 columns</p>\n",
       "</div>"
      ],
      "text/plain": [
       "                            Jan 2012    Feb 2012   Mar 2012    Apr 2012  \\\n",
       "Cluster   Brand Group                                                     \n",
       "Cluster 1 Brand Group 12  616.408961  685.081035  968.93887  723.701936   \n",
       "          Brand Group 13   62.381470   69.445132   42.08108   55.139918   \n",
       "\n",
       "                            May 2012    Jun 2012    Jul 2012    Aug 2012  \\\n",
       "Cluster   Brand Group                                                      \n",
       "Cluster 1 Brand Group 12  656.607506  319.401731  953.191022  658.304347   \n",
       "          Brand Group 13   65.677360   36.194606   46.670999   62.483972   \n",
       "\n",
       "                            Sep 2012    Oct 2012     ...          Mar 2017  \\\n",
       "Cluster   Brand Group                                ...                     \n",
       "Cluster 1 Brand Group 12  837.083837  943.346418     ...       1494.614561   \n",
       "          Brand Group 13   49.465439   58.313315     ...          5.496543   \n",
       "\n",
       "                             Apr 2017     May 2017     Jun 2017     Jul 2017  \\\n",
       "Cluster   Brand Group                                                          \n",
       "Cluster 1 Brand Group 12  1583.525099  1396.117515  1471.551885  1632.173591   \n",
       "          Brand Group 13    14.480741     9.765432    11.746420     7.310123   \n",
       "\n",
       "                             Aug 2017     Sep 2017     Oct 2017     Nov 2017  \\\n",
       "Cluster   Brand Group                                                          \n",
       "Cluster 1 Brand Group 12  1627.574308  1608.715411  1538.061964  1574.399619   \n",
       "          Brand Group 13    10.965185     5.803457     5.608148     8.537778   \n",
       "\n",
       "                             Dec 2017  \n",
       "Cluster   Brand Group                  \n",
       "Cluster 1 Brand Group 12  1381.174249  \n",
       "          Brand Group 13     6.361481  \n",
       "\n",
       "[2 rows x 72 columns]"
      ]
     },
     "execution_count": 7,
     "metadata": {},
     "output_type": "execute_result"
    }
   ],
   "source": [
    "df = df[df.columns.drop(list(df.filter(regex='Unnamed')))]\n",
    "dfsales2=df.loc[df['Function'] == \"Sales 2\"]\n",
    "dfsales2 = dfsales2[dfsales2.columns.drop(list(dfsales2.filter(regex='2018')))]\n",
    "dfsales2=dfsales2.groupby(['Cluster','Brand Group']).agg('sum')\n",
    "dfsales2.head(2)"
   ]
  },
  {
   "cell_type": "code",
   "execution_count": 8,
   "metadata": {},
   "outputs": [
    {
     "data": {
      "text/html": [
       "<div>\n",
       "<style scoped>\n",
       "    .dataframe tbody tr th:only-of-type {\n",
       "        vertical-align: middle;\n",
       "    }\n",
       "\n",
       "    .dataframe tbody tr th {\n",
       "        vertical-align: top;\n",
       "    }\n",
       "\n",
       "    .dataframe thead th {\n",
       "        text-align: right;\n",
       "    }\n",
       "</style>\n",
       "<table border=\"1\" class=\"dataframe\">\n",
       "  <thead>\n",
       "    <tr style=\"text-align: right;\">\n",
       "      <th></th>\n",
       "      <th>Cluster</th>\n",
       "      <th>Brand Group</th>\n",
       "      <th>Date</th>\n",
       "      <th>Value_Y</th>\n",
       "    </tr>\n",
       "  </thead>\n",
       "  <tbody>\n",
       "    <tr>\n",
       "      <th>0</th>\n",
       "      <td>Cluster 1</td>\n",
       "      <td>Brand Group 12</td>\n",
       "      <td>Jan 2012</td>\n",
       "      <td>616.408961</td>\n",
       "    </tr>\n",
       "    <tr>\n",
       "      <th>1</th>\n",
       "      <td>Cluster 1</td>\n",
       "      <td>Brand Group 13</td>\n",
       "      <td>Jan 2012</td>\n",
       "      <td>62.381470</td>\n",
       "    </tr>\n",
       "    <tr>\n",
       "      <th>2</th>\n",
       "      <td>Cluster 1</td>\n",
       "      <td>Brand Group 15</td>\n",
       "      <td>Jan 2012</td>\n",
       "      <td>0.000000</td>\n",
       "    </tr>\n",
       "    <tr>\n",
       "      <th>3</th>\n",
       "      <td>Cluster 1</td>\n",
       "      <td>Brand Group 16</td>\n",
       "      <td>Jan 2012</td>\n",
       "      <td>2457.695992</td>\n",
       "    </tr>\n",
       "    <tr>\n",
       "      <th>4</th>\n",
       "      <td>Cluster 1</td>\n",
       "      <td>Brand Group 17</td>\n",
       "      <td>Jan 2012</td>\n",
       "      <td>0.000000</td>\n",
       "    </tr>\n",
       "  </tbody>\n",
       "</table>\n",
       "</div>"
      ],
      "text/plain": [
       "     Cluster     Brand Group      Date      Value_Y\n",
       "0  Cluster 1  Brand Group 12  Jan 2012   616.408961\n",
       "1  Cluster 1  Brand Group 13  Jan 2012    62.381470\n",
       "2  Cluster 1  Brand Group 15  Jan 2012     0.000000\n",
       "3  Cluster 1  Brand Group 16  Jan 2012  2457.695992\n",
       "4  Cluster 1  Brand Group 17  Jan 2012     0.000000"
      ]
     },
     "execution_count": 8,
     "metadata": {},
     "output_type": "execute_result"
    }
   ],
   "source": [
    "dfmelt=pd.melt(dfsales2.reset_index(), id_vars=[\"Cluster\", \"Brand Group\"], \n",
    "                  var_name=\"Date\", value_name=\"Value_Y\")\n",
    "dfmelt.head(5)"
   ]
  },
  {
   "cell_type": "markdown",
   "metadata": {},
   "source": [
    "## Encode months\n",
    "- Encode month based on dictionary\n",
    "- Add month number (0-11)"
   ]
  },
  {
   "cell_type": "code",
   "execution_count": 9,
   "metadata": {},
   "outputs": [],
   "source": [
    "dictmonths=dict(zip(dfmelt[\"Date\"].unique(),range(len(dfmelt[\"Date\"].unique()))))"
   ]
  },
  {
   "cell_type": "code",
   "execution_count": 10,
   "metadata": {},
   "outputs": [],
   "source": [
    "dfmelt[\"Date_coded\"]=dfmelt[\"Date\"].apply(lambda x: dictmonths[x])"
   ]
  },
  {
   "cell_type": "code",
   "execution_count": 11,
   "metadata": {},
   "outputs": [],
   "source": [
    "dfmelt[\"Month\"]=dfmelt[\"Date_coded\"].apply(lambda x: x%12)"
   ]
  },
  {
   "cell_type": "code",
   "execution_count": 12,
   "metadata": {},
   "outputs": [
    {
     "data": {
      "text/html": [
       "<div>\n",
       "<style scoped>\n",
       "    .dataframe tbody tr th:only-of-type {\n",
       "        vertical-align: middle;\n",
       "    }\n",
       "\n",
       "    .dataframe tbody tr th {\n",
       "        vertical-align: top;\n",
       "    }\n",
       "\n",
       "    .dataframe thead th {\n",
       "        text-align: right;\n",
       "    }\n",
       "</style>\n",
       "<table border=\"1\" class=\"dataframe\">\n",
       "  <thead>\n",
       "    <tr style=\"text-align: right;\">\n",
       "      <th></th>\n",
       "      <th>Cluster</th>\n",
       "      <th>Brand Group</th>\n",
       "      <th>Date</th>\n",
       "      <th>Value_Y</th>\n",
       "      <th>Date_coded</th>\n",
       "      <th>Month</th>\n",
       "    </tr>\n",
       "  </thead>\n",
       "  <tbody>\n",
       "    <tr>\n",
       "      <th>0</th>\n",
       "      <td>Cluster 1</td>\n",
       "      <td>Brand Group 12</td>\n",
       "      <td>Jan 2012</td>\n",
       "      <td>616.408961</td>\n",
       "      <td>0</td>\n",
       "      <td>0</td>\n",
       "    </tr>\n",
       "    <tr>\n",
       "      <th>1</th>\n",
       "      <td>Cluster 1</td>\n",
       "      <td>Brand Group 13</td>\n",
       "      <td>Jan 2012</td>\n",
       "      <td>62.381470</td>\n",
       "      <td>0</td>\n",
       "      <td>0</td>\n",
       "    </tr>\n",
       "  </tbody>\n",
       "</table>\n",
       "</div>"
      ],
      "text/plain": [
       "     Cluster     Brand Group      Date     Value_Y  Date_coded  Month\n",
       "0  Cluster 1  Brand Group 12  Jan 2012  616.408961           0      0\n",
       "1  Cluster 1  Brand Group 13  Jan 2012   62.381470           0      0"
      ]
     },
     "execution_count": 12,
     "metadata": {},
     "output_type": "execute_result"
    }
   ],
   "source": [
    "dfmelt.head(2)"
   ]
  },
  {
   "cell_type": "markdown",
   "metadata": {},
   "source": [
    "## Add lag values\n",
    "- Value_Y is the value to predict\n",
    "- Previous month is the \"actual value\"\n",
    "- Lag values for the last six months (lag-1 --> lag-6)"
   ]
  },
  {
   "cell_type": "code",
   "execution_count": 13,
   "metadata": {},
   "outputs": [],
   "source": [
    "dfmelt[\"Actual\"] = np.nan\n",
    "dfmelt[\"Lag-1\"] = np.nan\n",
    "dfmelt[\"Lag-2\"] = np.nan\n",
    "dfmelt[\"Lag-3\"] = np.nan\n",
    "dfmelt[\"Lag-4\"] = np.nan\n",
    "dfmelt[\"Lag-5\"] = np.nan\n",
    "dfmelt[\"Lag-6\"] = np.nan"
   ]
  },
  {
   "cell_type": "code",
   "execution_count": 15,
   "metadata": {},
   "outputs": [],
   "source": [
    "## Function to add a specific lag value.\n",
    "def add_lag_values(dfpre,lag,lagname):\n",
    "    for i in range (len (dfpre)):\n",
    "        if dfpre.iloc[i].Date_coded>12:\n",
    "            dfpre.iloc[i,dfpre.columns.get_loc(lagname)]=dfpre[(dfpre[\"Cluster\"]==dfpre.iloc[i].Cluster) \n",
    "                   & (dfpre[\"Brand Group\"]==dfpre.iloc[i,dfpre.columns.get_loc(\"Brand Group\")])\n",
    "                                                                &(dfpre[\"Date_coded\"]==dfpre.iloc[i].Date_coded-lag)][\"Value_Y\"].values[0]\n",
    "    return dfpre"
   ]
  },
  {
   "cell_type": "code",
   "execution_count": 16,
   "metadata": {},
   "outputs": [],
   "source": [
    "dfpre=add_lag_values(dfmelt,1,'Actual')\n",
    "dfpre=add_lag_values(dfpre,2,'Lag-1')\n",
    "dfpre=add_lag_values(dfpre,3,'Lag-2')\n",
    "dfpre=add_lag_values(dfpre,4,'Lag-3')\n",
    "dfpre=add_lag_values(dfpre,5,'Lag-4')\n",
    "dfpre=add_lag_values(dfpre,6,'Lag-5')\n",
    "dfpre=add_lag_values(dfpre,7,'Lag-6')"
   ]
  },
  {
   "cell_type": "code",
   "execution_count": 1570,
   "metadata": {},
   "outputs": [],
   "source": [
    "#dfpre.to_pickle(\"lags_pre_12\")"
   ]
  },
  {
   "cell_type": "code",
   "execution_count": 437,
   "metadata": {},
   "outputs": [],
   "source": [
    "#dfpre=pd.read_pickle(\"lags_pre_12\")"
   ]
  },
  {
   "cell_type": "markdown",
   "metadata": {},
   "source": [
    "## Drop nan values"
   ]
  },
  {
   "cell_type": "code",
   "execution_count": 18,
   "metadata": {},
   "outputs": [],
   "source": [
    "dfpre=dfpre.dropna()"
   ]
  },
  {
   "cell_type": "markdown",
   "metadata": {},
   "source": [
    "## Adjust month feature\n",
    "- Month - 1 (The month is from the \"Actual\" value no the value we want to predict (Value_Y)"
   ]
  },
  {
   "cell_type": "code",
   "execution_count": 20,
   "metadata": {},
   "outputs": [
    {
     "name": "stderr",
     "output_type": "stream",
     "text": [
      "C:\\Users\\dsalvadu\\AppData\\Local\\Continuum\\anaconda3\\envs\\CDAC\\lib\\site-packages\\ipykernel\\__main__.py:1: SettingWithCopyWarning: \n",
      "A value is trying to be set on a copy of a slice from a DataFrame.\n",
      "Try using .loc[row_indexer,col_indexer] = value instead\n",
      "\n",
      "See the caveats in the documentation: http://pandas.pydata.org/pandas-docs/stable/indexing.html#indexing-view-versus-copy\n",
      "  if __name__ == '__main__':\n"
     ]
    }
   ],
   "source": [
    "dfpre['Month']=dfpre['Month'].apply(lambda x: 11 if x == 0 else x-1)"
   ]
  },
  {
   "cell_type": "code",
   "execution_count": 21,
   "metadata": {},
   "outputs": [
    {
     "data": {
      "text/html": [
       "<div>\n",
       "<style scoped>\n",
       "    .dataframe tbody tr th:only-of-type {\n",
       "        vertical-align: middle;\n",
       "    }\n",
       "\n",
       "    .dataframe tbody tr th {\n",
       "        vertical-align: top;\n",
       "    }\n",
       "\n",
       "    .dataframe thead th {\n",
       "        text-align: right;\n",
       "    }\n",
       "</style>\n",
       "<table border=\"1\" class=\"dataframe\">\n",
       "  <thead>\n",
       "    <tr style=\"text-align: right;\">\n",
       "      <th></th>\n",
       "      <th>Cluster</th>\n",
       "      <th>Brand Group</th>\n",
       "      <th>Date</th>\n",
       "      <th>Value_Y</th>\n",
       "      <th>Date_coded</th>\n",
       "      <th>Month</th>\n",
       "      <th>Actual</th>\n",
       "      <th>Lag-1</th>\n",
       "      <th>Lag-2</th>\n",
       "      <th>Lag-3</th>\n",
       "      <th>Lag-4</th>\n",
       "      <th>Lag-5</th>\n",
       "      <th>Lag-6</th>\n",
       "    </tr>\n",
       "  </thead>\n",
       "  <tbody>\n",
       "    <tr>\n",
       "      <th>3939</th>\n",
       "      <td>Cluster 1</td>\n",
       "      <td>Brand Group 12</td>\n",
       "      <td>Feb 2013</td>\n",
       "      <td>886.812584</td>\n",
       "      <td>13</td>\n",
       "      <td>0</td>\n",
       "      <td>745.704077</td>\n",
       "      <td>1084.703889</td>\n",
       "      <td>946.821916</td>\n",
       "      <td>943.346418</td>\n",
       "      <td>837.083837</td>\n",
       "      <td>658.304347</td>\n",
       "      <td>953.191022</td>\n",
       "    </tr>\n",
       "    <tr>\n",
       "      <th>3940</th>\n",
       "      <td>Cluster 1</td>\n",
       "      <td>Brand Group 13</td>\n",
       "      <td>Feb 2013</td>\n",
       "      <td>32.448225</td>\n",
       "      <td>13</td>\n",
       "      <td>0</td>\n",
       "      <td>47.174759</td>\n",
       "      <td>46.998244</td>\n",
       "      <td>80.600039</td>\n",
       "      <td>58.313315</td>\n",
       "      <td>49.465439</td>\n",
       "      <td>62.483972</td>\n",
       "      <td>46.670999</td>\n",
       "    </tr>\n",
       "  </tbody>\n",
       "</table>\n",
       "</div>"
      ],
      "text/plain": [
       "        Cluster     Brand Group      Date     Value_Y  Date_coded  Month  \\\n",
       "3939  Cluster 1  Brand Group 12  Feb 2013  886.812584          13      0   \n",
       "3940  Cluster 1  Brand Group 13  Feb 2013   32.448225          13      0   \n",
       "\n",
       "          Actual        Lag-1       Lag-2       Lag-3       Lag-4       Lag-5  \\\n",
       "3939  745.704077  1084.703889  946.821916  943.346418  837.083837  658.304347   \n",
       "3940   47.174759    46.998244   80.600039   58.313315   49.465439   62.483972   \n",
       "\n",
       "           Lag-6  \n",
       "3939  953.191022  \n",
       "3940   46.670999  "
      ]
     },
     "execution_count": 21,
     "metadata": {},
     "output_type": "execute_result"
    }
   ],
   "source": [
    "dfpre.head(2)"
   ]
  },
  {
   "cell_type": "markdown",
   "metadata": {},
   "source": [
    "## Feature engineering: Add sales trends\n",
    "-  Add short-trend sales: Trend using last 3 months\n",
    "-  Add mid-trend sales: Trend using last 6 months"
   ]
  },
  {
   "cell_type": "code",
   "execution_count": 22,
   "metadata": {},
   "outputs": [],
   "source": [
    "def add_trend(df, name,list_lags):\n",
    "    df[name] = df['Actual']\n",
    "\n",
    "    lag_list=[1,2,3]\n",
    "\n",
    "    for lag in [1,2,3]:\n",
    "        ft_name = ('Lag-%s' % lag)\n",
    "        df[name] -= df[ft_name]\n",
    "\n",
    "    df[name] /= len(lag_list) + 1\n",
    "    return df"
   ]
  },
  {
   "cell_type": "code",
   "execution_count": 23,
   "metadata": {
    "scrolled": true
   },
   "outputs": [
    {
     "name": "stderr",
     "output_type": "stream",
     "text": [
      "C:\\Users\\dsalvadu\\AppData\\Local\\Continuum\\anaconda3\\envs\\CDAC\\lib\\site-packages\\ipykernel\\__main__.py:2: SettingWithCopyWarning: \n",
      "A value is trying to be set on a copy of a slice from a DataFrame.\n",
      "Try using .loc[row_indexer,col_indexer] = value instead\n",
      "\n",
      "See the caveats in the documentation: http://pandas.pydata.org/pandas-docs/stable/indexing.html#indexing-view-versus-copy\n",
      "  from ipykernel import kernelapp as app\n",
      "C:\\Users\\dsalvadu\\AppData\\Local\\Continuum\\anaconda3\\envs\\CDAC\\lib\\site-packages\\ipykernel\\__main__.py:8: SettingWithCopyWarning: \n",
      "A value is trying to be set on a copy of a slice from a DataFrame.\n",
      "Try using .loc[row_indexer,col_indexer] = value instead\n",
      "\n",
      "See the caveats in the documentation: http://pandas.pydata.org/pandas-docs/stable/indexing.html#indexing-view-versus-copy\n",
      "C:\\Users\\dsalvadu\\AppData\\Local\\Continuum\\anaconda3\\envs\\CDAC\\lib\\site-packages\\ipykernel\\__main__.py:10: SettingWithCopyWarning: \n",
      "A value is trying to be set on a copy of a slice from a DataFrame.\n",
      "Try using .loc[row_indexer,col_indexer] = value instead\n",
      "\n",
      "See the caveats in the documentation: http://pandas.pydata.org/pandas-docs/stable/indexing.html#indexing-view-versus-copy\n"
     ]
    }
   ],
   "source": [
    "dfpre=add_trend(dfpre,\"short_sales_trend\",[1,2,3])\n",
    "dfpre=add_trend(dfpre,\"mid_sales_trend\",[1,2,3,4,5,6])"
   ]
  },
  {
   "cell_type": "code",
   "execution_count": 446,
   "metadata": {},
   "outputs": [],
   "source": [
    "#dfpre['Date_coded']=dfpre['Date_coded'].apply(lambda x: x-1)"
   ]
  },
  {
   "cell_type": "markdown",
   "metadata": {},
   "source": [
    "## Separate Features and labels"
   ]
  },
  {
   "cell_type": "code",
   "execution_count": 24,
   "metadata": {},
   "outputs": [],
   "source": [
    "yvalues =dfpre[\"Value_Y\"]\n",
    "xvalues = dfpre.drop(labels=['Value_Y'],axis=1)"
   ]
  },
  {
   "cell_type": "markdown",
   "metadata": {},
   "source": [
    "## Divide in train and test"
   ]
  },
  {
   "cell_type": "code",
   "execution_count": 25,
   "metadata": {},
   "outputs": [],
   "source": [
    "X_train, X_valid, y_train, y_valid = train_test_split(xvalues, yvalues, test_size=0.15, shuffle=False)"
   ]
  },
  {
   "cell_type": "markdown",
   "metadata": {},
   "source": [
    "## Get only feature columns"
   ]
  },
  {
   "cell_type": "code",
   "execution_count": 26,
   "metadata": {},
   "outputs": [],
   "source": [
    "X_train=X_train[['Month', 'Actual',\n",
    "       'Lag-1', 'Lag-2', 'Lag-3', 'Lag-4', 'Lag-5', 'Lag-6', 'short_sales_trend','mid_sales_trend']]\n",
    "X_valid=X_valid[['Month', 'Actual',\n",
    "       'Lag-1', 'Lag-2', 'Lag-3', 'Lag-4', 'Lag-5', 'Lag-6', 'short_sales_trend','mid_sales_trend']]"
   ]
  },
  {
   "cell_type": "markdown",
   "metadata": {},
   "source": [
    "## List of models for ensembling"
   ]
  },
  {
   "cell_type": "code",
   "execution_count": 27,
   "metadata": {},
   "outputs": [],
   "source": [
    "models=[]"
   ]
  },
  {
   "cell_type": "markdown",
   "metadata": {},
   "source": [
    "# Train Support Vector Machine for Regression (SVR)"
   ]
  },
  {
   "cell_type": "code",
   "execution_count": 28,
   "metadata": {},
   "outputs": [],
   "source": [
    "from xgboost import XGBRegressor\n",
    "from sklearn.svm import SVR"
   ]
  },
  {
   "cell_type": "code",
   "execution_count": 31,
   "metadata": {},
   "outputs": [
    {
     "data": {
      "text/plain": [
       "SVR(C=10000, cache_size=200, coef0=0.0, degree=3, epsilon=0.1, gamma=9e-09,\n",
       "  kernel='rbf', max_iter=-1, shrinking=True, tol=0.001, verbose=False)"
      ]
     },
     "execution_count": 31,
     "metadata": {},
     "output_type": "execute_result"
    }
   ],
   "source": [
    "regres=SVR(kernel = 'rbf',C=10000,gamma=.000000009)\n",
    "regres.fit(X_train,y_train)"
   ]
  },
  {
   "cell_type": "code",
   "execution_count": 32,
   "metadata": {},
   "outputs": [],
   "source": [
    "predTest=regres.predict(X_valid)"
   ]
  },
  {
   "cell_type": "code",
   "execution_count": 33,
   "metadata": {},
   "outputs": [
    {
     "name": "stdout",
     "output_type": "stream",
     "text": [
      "MAE: 258.27938694401496\n",
      "MSE: 556718.8424905108\n"
     ]
    }
   ],
   "source": [
    "from sklearn.metrics import mean_absolute_error,mean_squared_error,r2_score\n",
    "print(\"MAE:\",mean_absolute_error(y_valid, predTest))\n",
    "print(\"MSE:\",mean_squared_error(y_valid, predTest))"
   ]
  },
  {
   "cell_type": "code",
   "execution_count": 34,
   "metadata": {},
   "outputs": [],
   "source": [
    "models.append(regres)"
   ]
  },
  {
   "cell_type": "markdown",
   "metadata": {},
   "source": [
    "## Train XGBoost Regressor "
   ]
  },
  {
   "cell_type": "markdown",
   "metadata": {},
   "source": [
    "#### Hyperparameter Tunning"
   ]
  },
  {
   "cell_type": "code",
   "execution_count": 1375,
   "metadata": {},
   "outputs": [
    {
     "name": "stdout",
     "output_type": "stream",
     "text": [
      "Fitting 2 folds for each of 27 candidates, totalling 54 fits\n"
     ]
    },
    {
     "name": "stderr",
     "output_type": "stream",
     "text": [
      "[Parallel(n_jobs=5)]: Done  40 tasks      | elapsed:  1.2min\n",
      "[Parallel(n_jobs=5)]: Done  54 out of  54 | elapsed:  1.6min finished\n"
     ]
    },
    {
     "name": "stdout",
     "output_type": "stream",
     "text": [
      "0.9657134384098217\n",
      "{'colsample_bytree': 0.7, 'learning_rate': 0.03, 'max_depth': 6, 'min_child_weight': 15, 'n_estimators': 500, 'nthread': 4, 'objective': 'reg:linear', 'silent': 1, 'subsample': 0.7}\n"
     ]
    }
   ],
   "source": [
    "xfrom sklearn.model_selection import GridSearchCV\n",
    "model = XGBRegressor(eval_metric = 'rmse', early_stopping_rounds = 20)\n",
    "parameters = {'nthread':[4], #when use hyperthread, xgboost may become slower\n",
    "              'objective':['reg:linear'],\n",
    "              'learning_rate': [.03, 0.05, .07], #so called `eta` value\n",
    "              'max_depth': [6, 7],\n",
    "              'min_child_weight': [15,20],\n",
    "              'silent': [1],\n",
    "              'subsample': [0.8],\n",
    "              'colsample_bytree': [0.8],\n",
    "              'n_estimators': [1000]}\n",
    "\n",
    "xgb_grid = GridSearchCV(model,\n",
    "                        parameters,\n",
    "                        cv = 2,\n",
    "                        n_jobs = 5,\n",
    "                        verbose=True)\n",
    "\n",
    "xgb_grid.fit(X_train,y_train,  eval_metric=\"rmse\")\n",
    "\n",
    "print(xgb_grid.best_score_)\n",
    "print(xgb_grid.best_params_)"
   ]
  },
  {
   "cell_type": "markdown",
   "metadata": {},
   "source": [
    "#### Normal training with best parameters"
   ]
  },
  {
   "cell_type": "code",
   "execution_count": 35,
   "metadata": {},
   "outputs": [
    {
     "name": "stdout",
     "output_type": "stream",
     "text": [
      "[0]\tvalidation_0-rmse:3971.89\tvalidation_1-rmse:4556.83\n",
      "Multiple eval metrics have been passed: 'validation_1-rmse' will be used for early stopping.\n",
      "\n",
      "Will train until validation_1-rmse hasn't improved in 30 rounds.\n",
      "[1]\tvalidation_0-rmse:3858.17\tvalidation_1-rmse:4427.14\n",
      "[2]\tvalidation_0-rmse:3747.46\tvalidation_1-rmse:4299.14\n",
      "[3]\tvalidation_0-rmse:3640.48\tvalidation_1-rmse:4176.71\n",
      "[4]\tvalidation_0-rmse:3536.89\tvalidation_1-rmse:4057.63\n",
      "[5]\tvalidation_0-rmse:3436.67\tvalidation_1-rmse:3943.06\n",
      "[6]\tvalidation_0-rmse:3339.51\tvalidation_1-rmse:3831.15\n",
      "[7]\tvalidation_0-rmse:3244.77\tvalidation_1-rmse:3721.38\n",
      "[8]\tvalidation_0-rmse:3152.84\tvalidation_1-rmse:3617.35\n",
      "[9]\tvalidation_0-rmse:3064.39\tvalidation_1-rmse:3516.63\n",
      "[10]\tvalidation_0-rmse:2978.5\tvalidation_1-rmse:3416.49\n",
      "[11]\tvalidation_0-rmse:2895.37\tvalidation_1-rmse:3322.77\n",
      "[12]\tvalidation_0-rmse:2814.92\tvalidation_1-rmse:3231.7\n",
      "[13]\tvalidation_0-rmse:2736.24\tvalidation_1-rmse:3142.71\n",
      "[14]\tvalidation_0-rmse:2660.06\tvalidation_1-rmse:3055.59\n",
      "[15]\tvalidation_0-rmse:2586.5\tvalidation_1-rmse:2972.08\n",
      "[16]\tvalidation_0-rmse:2515.47\tvalidation_1-rmse:2891.83\n",
      "[17]\tvalidation_0-rmse:2445.76\tvalidation_1-rmse:2813.57\n",
      "[18]\tvalidation_0-rmse:2378.24\tvalidation_1-rmse:2737.36\n",
      "[19]\tvalidation_0-rmse:2313.36\tvalidation_1-rmse:2663.63\n",
      "[20]\tvalidation_0-rmse:2250.69\tvalidation_1-rmse:2592.78\n",
      "[21]\tvalidation_0-rmse:2189.77\tvalidation_1-rmse:2524.75\n",
      "[22]\tvalidation_0-rmse:2131.33\tvalidation_1-rmse:2457.97\n",
      "[23]\tvalidation_0-rmse:2073.78\tvalidation_1-rmse:2392.07\n",
      "[24]\tvalidation_0-rmse:2018.22\tvalidation_1-rmse:2328.65\n",
      "[25]\tvalidation_0-rmse:1964.94\tvalidation_1-rmse:2267.92\n",
      "[26]\tvalidation_0-rmse:1912.8\tvalidation_1-rmse:2208.88\n",
      "[27]\tvalidation_0-rmse:1862.62\tvalidation_1-rmse:2151.51\n",
      "[28]\tvalidation_0-rmse:1814.35\tvalidation_1-rmse:2097.11\n",
      "[29]\tvalidation_0-rmse:1767.84\tvalidation_1-rmse:2044.36\n",
      "[30]\tvalidation_0-rmse:1721.88\tvalidation_1-rmse:1991.98\n",
      "[31]\tvalidation_0-rmse:1677.89\tvalidation_1-rmse:1942.25\n",
      "[32]\tvalidation_0-rmse:1635.92\tvalidation_1-rmse:1894.89\n",
      "[33]\tvalidation_0-rmse:1595.16\tvalidation_1-rmse:1848.97\n",
      "[34]\tvalidation_0-rmse:1555.51\tvalidation_1-rmse:1804.73\n",
      "[35]\tvalidation_0-rmse:1516.95\tvalidation_1-rmse:1762.58\n",
      "[36]\tvalidation_0-rmse:1479.37\tvalidation_1-rmse:1720.5\n",
      "[37]\tvalidation_0-rmse:1443.11\tvalidation_1-rmse:1680\n",
      "[38]\tvalidation_0-rmse:1408.35\tvalidation_1-rmse:1641.15\n",
      "[39]\tvalidation_0-rmse:1374.33\tvalidation_1-rmse:1602.75\n",
      "[40]\tvalidation_0-rmse:1341.69\tvalidation_1-rmse:1567\n",
      "[41]\tvalidation_0-rmse:1310.35\tvalidation_1-rmse:1531.84\n",
      "[42]\tvalidation_0-rmse:1280.26\tvalidation_1-rmse:1498.11\n",
      "[43]\tvalidation_0-rmse:1250.98\tvalidation_1-rmse:1466.08\n",
      "[44]\tvalidation_0-rmse:1222.78\tvalidation_1-rmse:1434.75\n",
      "[45]\tvalidation_0-rmse:1195.84\tvalidation_1-rmse:1404.92\n",
      "[46]\tvalidation_0-rmse:1169.24\tvalidation_1-rmse:1376.66\n",
      "[47]\tvalidation_0-rmse:1143.26\tvalidation_1-rmse:1348.37\n",
      "[48]\tvalidation_0-rmse:1118.4\tvalidation_1-rmse:1322.39\n",
      "[49]\tvalidation_0-rmse:1094.5\tvalidation_1-rmse:1297.21\n",
      "[50]\tvalidation_0-rmse:1071.4\tvalidation_1-rmse:1272.97\n",
      "[51]\tvalidation_0-rmse:1049.66\tvalidation_1-rmse:1249.21\n",
      "[52]\tvalidation_0-rmse:1028.86\tvalidation_1-rmse:1226.7\n",
      "[53]\tvalidation_0-rmse:1009.22\tvalidation_1-rmse:1206.1\n",
      "[54]\tvalidation_0-rmse:989.11\tvalidation_1-rmse:1185.36\n",
      "[55]\tvalidation_0-rmse:970.498\tvalidation_1-rmse:1166.92\n",
      "[56]\tvalidation_0-rmse:952.274\tvalidation_1-rmse:1147.45\n",
      "[57]\tvalidation_0-rmse:935.572\tvalidation_1-rmse:1130.39\n",
      "[58]\tvalidation_0-rmse:918.418\tvalidation_1-rmse:1113.65\n",
      "[59]\tvalidation_0-rmse:902.709\tvalidation_1-rmse:1097.86\n",
      "[60]\tvalidation_0-rmse:887.139\tvalidation_1-rmse:1082.05\n",
      "[61]\tvalidation_0-rmse:871.902\tvalidation_1-rmse:1065.45\n",
      "[62]\tvalidation_0-rmse:857.369\tvalidation_1-rmse:1050.53\n",
      "[63]\tvalidation_0-rmse:844.031\tvalidation_1-rmse:1036.16\n",
      "[64]\tvalidation_0-rmse:830.662\tvalidation_1-rmse:1023.33\n",
      "[65]\tvalidation_0-rmse:818.126\tvalidation_1-rmse:1010.79\n",
      "[66]\tvalidation_0-rmse:805.602\tvalidation_1-rmse:998.119\n",
      "[67]\tvalidation_0-rmse:793.764\tvalidation_1-rmse:986.866\n",
      "[68]\tvalidation_0-rmse:782.426\tvalidation_1-rmse:976.465\n",
      "[69]\tvalidation_0-rmse:771.752\tvalidation_1-rmse:966.997\n",
      "[70]\tvalidation_0-rmse:761.362\tvalidation_1-rmse:956.435\n",
      "[71]\tvalidation_0-rmse:751.337\tvalidation_1-rmse:946.946\n",
      "[72]\tvalidation_0-rmse:742.043\tvalidation_1-rmse:937.126\n",
      "[73]\tvalidation_0-rmse:732.659\tvalidation_1-rmse:928.817\n",
      "[74]\tvalidation_0-rmse:723.93\tvalidation_1-rmse:920.747\n",
      "[75]\tvalidation_0-rmse:715.523\tvalidation_1-rmse:912.78\n",
      "[76]\tvalidation_0-rmse:707.462\tvalidation_1-rmse:905.177\n",
      "[77]\tvalidation_0-rmse:699.549\tvalidation_1-rmse:898.044\n",
      "[78]\tvalidation_0-rmse:692.178\tvalidation_1-rmse:891.438\n",
      "[79]\tvalidation_0-rmse:685.18\tvalidation_1-rmse:885.324\n",
      "[80]\tvalidation_0-rmse:678.34\tvalidation_1-rmse:878.919\n",
      "[81]\tvalidation_0-rmse:671.989\tvalidation_1-rmse:872.309\n",
      "[82]\tvalidation_0-rmse:665.751\tvalidation_1-rmse:866.219\n",
      "[83]\tvalidation_0-rmse:660.089\tvalidation_1-rmse:861.325\n",
      "[84]\tvalidation_0-rmse:654.413\tvalidation_1-rmse:856.501\n",
      "[85]\tvalidation_0-rmse:649.104\tvalidation_1-rmse:852.47\n",
      "[86]\tvalidation_0-rmse:643.925\tvalidation_1-rmse:847.751\n",
      "[87]\tvalidation_0-rmse:638.691\tvalidation_1-rmse:842.964\n",
      "[88]\tvalidation_0-rmse:633.532\tvalidation_1-rmse:839.119\n",
      "[89]\tvalidation_0-rmse:628.866\tvalidation_1-rmse:834.966\n",
      "[90]\tvalidation_0-rmse:624.681\tvalidation_1-rmse:831.386\n",
      "[91]\tvalidation_0-rmse:620.677\tvalidation_1-rmse:828.621\n",
      "[92]\tvalidation_0-rmse:616.765\tvalidation_1-rmse:826.593\n",
      "[93]\tvalidation_0-rmse:612.772\tvalidation_1-rmse:823.575\n",
      "[94]\tvalidation_0-rmse:608.928\tvalidation_1-rmse:820.426\n",
      "[95]\tvalidation_0-rmse:605.381\tvalidation_1-rmse:817.588\n",
      "[96]\tvalidation_0-rmse:601.99\tvalidation_1-rmse:814.255\n",
      "[97]\tvalidation_0-rmse:598.701\tvalidation_1-rmse:811.53\n",
      "[98]\tvalidation_0-rmse:595.881\tvalidation_1-rmse:809.084\n",
      "[99]\tvalidation_0-rmse:592.812\tvalidation_1-rmse:806.153\n",
      "[100]\tvalidation_0-rmse:589.846\tvalidation_1-rmse:803.617\n",
      "[101]\tvalidation_0-rmse:586.959\tvalidation_1-rmse:801.819\n",
      "[102]\tvalidation_0-rmse:584.605\tvalidation_1-rmse:799.919\n",
      "[103]\tvalidation_0-rmse:581.698\tvalidation_1-rmse:798.232\n",
      "[104]\tvalidation_0-rmse:579.658\tvalidation_1-rmse:796.188\n",
      "[105]\tvalidation_0-rmse:577.364\tvalidation_1-rmse:794.236\n",
      "[106]\tvalidation_0-rmse:575.129\tvalidation_1-rmse:793.038\n",
      "[107]\tvalidation_0-rmse:573.093\tvalidation_1-rmse:791.58\n",
      "[108]\tvalidation_0-rmse:571.18\tvalidation_1-rmse:790.414\n",
      "[109]\tvalidation_0-rmse:569.481\tvalidation_1-rmse:789.166\n",
      "[110]\tvalidation_0-rmse:567.722\tvalidation_1-rmse:787.857\n",
      "[111]\tvalidation_0-rmse:566.101\tvalidation_1-rmse:787.07\n",
      "[112]\tvalidation_0-rmse:564.417\tvalidation_1-rmse:785.798\n",
      "[113]\tvalidation_0-rmse:563.035\tvalidation_1-rmse:785.008\n",
      "[114]\tvalidation_0-rmse:561.693\tvalidation_1-rmse:784.382\n",
      "[115]\tvalidation_0-rmse:560.343\tvalidation_1-rmse:783.307\n",
      "[116]\tvalidation_0-rmse:558.736\tvalidation_1-rmse:782.835\n",
      "[117]\tvalidation_0-rmse:557.226\tvalidation_1-rmse:781.826\n",
      "[118]\tvalidation_0-rmse:555.821\tvalidation_1-rmse:780.592\n",
      "[119]\tvalidation_0-rmse:554.35\tvalidation_1-rmse:779.939\n",
      "[120]\tvalidation_0-rmse:552.833\tvalidation_1-rmse:779.031\n",
      "[121]\tvalidation_0-rmse:551.798\tvalidation_1-rmse:778.246\n",
      "[122]\tvalidation_0-rmse:550.557\tvalidation_1-rmse:777.683\n",
      "[123]\tvalidation_0-rmse:549.196\tvalidation_1-rmse:777.21\n",
      "[124]\tvalidation_0-rmse:548.01\tvalidation_1-rmse:776.675\n",
      "[125]\tvalidation_0-rmse:546.696\tvalidation_1-rmse:776.345\n",
      "[126]\tvalidation_0-rmse:545.689\tvalidation_1-rmse:776.198\n",
      "[127]\tvalidation_0-rmse:544.524\tvalidation_1-rmse:775.684\n",
      "[128]\tvalidation_0-rmse:543.499\tvalidation_1-rmse:775.537\n",
      "[129]\tvalidation_0-rmse:542.31\tvalidation_1-rmse:775.387\n",
      "[130]\tvalidation_0-rmse:541.116\tvalidation_1-rmse:775.419\n",
      "[131]\tvalidation_0-rmse:540.288\tvalidation_1-rmse:775.012\n",
      "[132]\tvalidation_0-rmse:539.582\tvalidation_1-rmse:774.527\n",
      "[133]\tvalidation_0-rmse:538.802\tvalidation_1-rmse:774.711\n",
      "[134]\tvalidation_0-rmse:538.043\tvalidation_1-rmse:774.105\n",
      "[135]\tvalidation_0-rmse:537.175\tvalidation_1-rmse:773.486\n",
      "[136]\tvalidation_0-rmse:536.373\tvalidation_1-rmse:772.595\n",
      "[137]\tvalidation_0-rmse:535.777\tvalidation_1-rmse:772.222\n",
      "[138]\tvalidation_0-rmse:535.217\tvalidation_1-rmse:772.024\n",
      "[139]\tvalidation_0-rmse:534.726\tvalidation_1-rmse:771.716\n",
      "[140]\tvalidation_0-rmse:534.232\tvalidation_1-rmse:771.662\n"
     ]
    },
    {
     "name": "stdout",
     "output_type": "stream",
     "text": [
      "[141]\tvalidation_0-rmse:533.694\tvalidation_1-rmse:771.437\n",
      "[142]\tvalidation_0-rmse:533.069\tvalidation_1-rmse:771.445\n",
      "[143]\tvalidation_0-rmse:532.514\tvalidation_1-rmse:771.197\n",
      "[144]\tvalidation_0-rmse:532.047\tvalidation_1-rmse:770.975\n",
      "[145]\tvalidation_0-rmse:531.588\tvalidation_1-rmse:770.696\n",
      "[146]\tvalidation_0-rmse:531.19\tvalidation_1-rmse:770.788\n",
      "[147]\tvalidation_0-rmse:530.546\tvalidation_1-rmse:770.701\n",
      "[148]\tvalidation_0-rmse:530.066\tvalidation_1-rmse:771.174\n",
      "[149]\tvalidation_0-rmse:529.664\tvalidation_1-rmse:771.433\n",
      "[150]\tvalidation_0-rmse:529.059\tvalidation_1-rmse:771.245\n",
      "[151]\tvalidation_0-rmse:528.64\tvalidation_1-rmse:771.109\n",
      "[152]\tvalidation_0-rmse:528.371\tvalidation_1-rmse:771.129\n",
      "[153]\tvalidation_0-rmse:528.01\tvalidation_1-rmse:770.826\n",
      "[154]\tvalidation_0-rmse:527.216\tvalidation_1-rmse:770.72\n",
      "[155]\tvalidation_0-rmse:526.752\tvalidation_1-rmse:770.682\n",
      "[156]\tvalidation_0-rmse:526.084\tvalidation_1-rmse:770.572\n",
      "[157]\tvalidation_0-rmse:525.724\tvalidation_1-rmse:770.599\n",
      "[158]\tvalidation_0-rmse:525.47\tvalidation_1-rmse:770.587\n",
      "[159]\tvalidation_0-rmse:525.006\tvalidation_1-rmse:770.497\n",
      "[160]\tvalidation_0-rmse:524.837\tvalidation_1-rmse:770.579\n",
      "[161]\tvalidation_0-rmse:524.23\tvalidation_1-rmse:770.339\n",
      "[162]\tvalidation_0-rmse:524.028\tvalidation_1-rmse:770.62\n",
      "[163]\tvalidation_0-rmse:523.795\tvalidation_1-rmse:770.821\n",
      "[164]\tvalidation_0-rmse:523.251\tvalidation_1-rmse:770.628\n",
      "[165]\tvalidation_0-rmse:523.01\tvalidation_1-rmse:770.332\n",
      "[166]\tvalidation_0-rmse:522.707\tvalidation_1-rmse:770.453\n",
      "[167]\tvalidation_0-rmse:522.347\tvalidation_1-rmse:770.67\n",
      "[168]\tvalidation_0-rmse:521.809\tvalidation_1-rmse:770.756\n",
      "[169]\tvalidation_0-rmse:521.543\tvalidation_1-rmse:771.141\n",
      "[170]\tvalidation_0-rmse:520.679\tvalidation_1-rmse:770.846\n",
      "[171]\tvalidation_0-rmse:520.434\tvalidation_1-rmse:770.541\n",
      "[172]\tvalidation_0-rmse:520.089\tvalidation_1-rmse:770.499\n",
      "[173]\tvalidation_0-rmse:519.631\tvalidation_1-rmse:770.088\n",
      "[174]\tvalidation_0-rmse:519.371\tvalidation_1-rmse:770.263\n",
      "[175]\tvalidation_0-rmse:519.057\tvalidation_1-rmse:770.479\n",
      "[176]\tvalidation_0-rmse:518.764\tvalidation_1-rmse:770.44\n",
      "[177]\tvalidation_0-rmse:518.322\tvalidation_1-rmse:770.079\n",
      "[178]\tvalidation_0-rmse:518.069\tvalidation_1-rmse:770.408\n",
      "[179]\tvalidation_0-rmse:517.94\tvalidation_1-rmse:770.358\n",
      "[180]\tvalidation_0-rmse:517.421\tvalidation_1-rmse:770.224\n",
      "[181]\tvalidation_0-rmse:517.284\tvalidation_1-rmse:770.092\n",
      "[182]\tvalidation_0-rmse:517.06\tvalidation_1-rmse:770.517\n",
      "[183]\tvalidation_0-rmse:516.907\tvalidation_1-rmse:770.65\n",
      "[184]\tvalidation_0-rmse:516.743\tvalidation_1-rmse:770.789\n",
      "[185]\tvalidation_0-rmse:516.527\tvalidation_1-rmse:770.963\n",
      "[186]\tvalidation_0-rmse:516.317\tvalidation_1-rmse:771.329\n",
      "[187]\tvalidation_0-rmse:516.125\tvalidation_1-rmse:771.56\n",
      "[188]\tvalidation_0-rmse:515.956\tvalidation_1-rmse:771.841\n",
      "[189]\tvalidation_0-rmse:515.731\tvalidation_1-rmse:771.897\n",
      "[190]\tvalidation_0-rmse:515.451\tvalidation_1-rmse:772.11\n",
      "[191]\tvalidation_0-rmse:515.253\tvalidation_1-rmse:772.171\n",
      "[192]\tvalidation_0-rmse:514.979\tvalidation_1-rmse:772.121\n",
      "[193]\tvalidation_0-rmse:514.536\tvalidation_1-rmse:772.271\n",
      "[194]\tvalidation_0-rmse:514.312\tvalidation_1-rmse:772.483\n",
      "[195]\tvalidation_0-rmse:514.115\tvalidation_1-rmse:772.078\n",
      "[196]\tvalidation_0-rmse:513.974\tvalidation_1-rmse:772.411\n",
      "[197]\tvalidation_0-rmse:513.827\tvalidation_1-rmse:772.343\n",
      "[198]\tvalidation_0-rmse:513.595\tvalidation_1-rmse:772.431\n",
      "[199]\tvalidation_0-rmse:513.462\tvalidation_1-rmse:772.53\n",
      "[200]\tvalidation_0-rmse:513.337\tvalidation_1-rmse:772.616\n",
      "[201]\tvalidation_0-rmse:513.139\tvalidation_1-rmse:772.948\n",
      "[202]\tvalidation_0-rmse:512.996\tvalidation_1-rmse:772.985\n",
      "[203]\tvalidation_0-rmse:512.883\tvalidation_1-rmse:772.712\n",
      "[204]\tvalidation_0-rmse:512.642\tvalidation_1-rmse:772.411\n",
      "[205]\tvalidation_0-rmse:512.379\tvalidation_1-rmse:772.418\n",
      "[206]\tvalidation_0-rmse:512.246\tvalidation_1-rmse:772.266\n",
      "[207]\tvalidation_0-rmse:512.035\tvalidation_1-rmse:772.622\n",
      "Stopping. Best iteration:\n",
      "[177]\tvalidation_0-rmse:518.322\tvalidation_1-rmse:770.079\n",
      "\n"
     ]
    },
    {
     "data": {
      "text/plain": [
       "XGBRegressor(base_score=0.5, booster='gbtree', colsample_bylevel=1,\n",
       "       colsample_bytree=0.7, eta=0.3, gamma=0, learning_rate=0.03,\n",
       "       max_delta_step=0, max_depth=6, min_child_weight=17, missing=None,\n",
       "       n_estimators=500, n_jobs=1, nthread=None, objective='reg:linear',\n",
       "       random_state=0, reg_alpha=0, reg_lambda=1, scale_pos_weight=1,\n",
       "       seed=42, silent=True, subsample=0.7)"
      ]
     },
     "execution_count": 35,
     "metadata": {},
     "output_type": "execute_result"
    }
   ],
   "source": [
    "model = XGBRegressor(\n",
    "    max_depth=6,\n",
    "    learning_rate=0.03,\n",
    "    n_estimators=500,\n",
    "    min_child_weight=17, \n",
    "    colsample_bytree=0.7, \n",
    "    subsample=0.7, \n",
    "    eta=0.3,    \n",
    "    seed=42)\n",
    "\n",
    "model.fit(\n",
    "    X_train, \n",
    "    y_train, \n",
    "  \n",
    "    eval_set=[(X_train, y_train), (X_valid, y_valid)], \n",
    "    verbose=True, \n",
    "    early_stopping_rounds = 30)"
   ]
  },
  {
   "cell_type": "code",
   "execution_count": 36,
   "metadata": {},
   "outputs": [],
   "source": [
    "models.append(model)"
   ]
  },
  {
   "cell_type": "markdown",
   "metadata": {},
   "source": [
    "## Train RandomForest Regressor"
   ]
  },
  {
   "cell_type": "code",
   "execution_count": 1416,
   "metadata": {},
   "outputs": [
    {
     "data": {
      "text/plain": [
       "RandomForestRegressor(bootstrap=True, criterion='mse', max_depth=14,\n",
       "           max_features='auto', max_leaf_nodes=None,\n",
       "           min_impurity_decrease=0.0, min_impurity_split=None,\n",
       "           min_samples_leaf=1, min_samples_split=2,\n",
       "           min_weight_fraction_leaf=0.0, n_estimators=75, n_jobs=1,\n",
       "           oob_score=False, random_state=0, verbose=0, warm_start=False)"
      ]
     },
     "execution_count": 1416,
     "metadata": {},
     "output_type": "execute_result"
    }
   ],
   "source": [
    "from sklearn.ensemble import RandomForestRegressor\n",
    "\n",
    "regr = RandomForestRegressor(max_depth=14, random_state=0, n_estimators=75)\n",
    "regr.fit(X_train, y_train)"
   ]
  },
  {
   "cell_type": "code",
   "execution_count": 1417,
   "metadata": {},
   "outputs": [
    {
     "name": "stdout",
     "output_type": "stream",
     "text": [
      "MAE: 270.43729730640075\n",
      "MSE: 471365.5167566193\n"
     ]
    }
   ],
   "source": [
    "p = regr.predict(X_valid)\n",
    "print(\"MAE:\",mean_absolute_error(y_valid, p))\n",
    "print(\"MSE:\",mean_squared_error(y_valid, p))"
   ]
  },
  {
   "cell_type": "markdown",
   "metadata": {},
   "source": [
    "## Train LGBMRegressor"
   ]
  },
  {
   "cell_type": "code",
   "execution_count": 1429,
   "metadata": {},
   "outputs": [
    {
     "name": "stderr",
     "output_type": "stream",
     "text": [
      "C:\\Users\\dsalvadu\\AppData\\Local\\Continuum\\anaconda3\\envs\\CDAC\\lib\\site-packages\\ipykernel\\__main__.py:4: RuntimeWarning: invalid value encountered in log1p\n"
     ]
    },
    {
     "data": {
      "text/plain": [
       "LGBMRegressor(bagging_fraction=0.9, bagging_freq=70, boosting_type='gbdt',\n",
       "       class_weight=None, colsample_bytree=1.0, feature_fraction=0.9,\n",
       "       importance_type='split', learning_rate=0.32, max_depth=-1,\n",
       "       min_child_samples=20, min_child_weight=0.001, min_split_gain=0.0,\n",
       "       n_estimators=100, n_jobs=-1, num_leaves=300, objective='regression',\n",
       "       random_state=None, reg_alpha=0.0, reg_lambda=0.0, silent=True,\n",
       "       subsample=1.0, subsample_for_bin=200000, subsample_freq=0,\n",
       "       task='train', verbose=100)"
      ]
     },
     "execution_count": 1429,
     "metadata": {},
     "output_type": "execute_result"
    }
   ],
   "source": [
    "from lightgbm import LGBMRegressor\n",
    "mdl = LGBMRegressor( task= 'train',boosting_type= 'gbdt',objective= 'regression',num_leaves= 300, learning_rate= 0.32,feature_fraction= 0.9,\n",
    "                    bagging_fraction= .9,bagging_freq= 70,verbose= 100)\n",
    "mdl.fit(X_train, np.log1p(y_train))"
   ]
  },
  {
   "cell_type": "code",
   "execution_count": 1434,
   "metadata": {},
   "outputs": [
    {
     "name": "stdout",
     "output_type": "stream",
     "text": [
      "MAE: 1933.2745963739865\n",
      "MSE: 19682032.82794994\n"
     ]
    }
   ],
   "source": [
    "p = mdl.predict(X_valid)\n",
    "print(\"MAE:\",mean_absolute_error(y_valid, p))\n",
    "print(\"MSE:\",mean_squared_error(y_valid, p))"
   ]
  },
  {
   "cell_type": "markdown",
   "metadata": {},
   "source": [
    "________________________________"
   ]
  },
  {
   "cell_type": "markdown",
   "metadata": {},
   "source": [
    "# Prediction dataset"
   ]
  },
  {
   "cell_type": "code",
   "execution_count": 37,
   "metadata": {},
   "outputs": [],
   "source": [
    "dfsales2=dfsales2.groupby(['Cluster','Brand Group']).agg('sum')"
   ]
  },
  {
   "cell_type": "code",
   "execution_count": 38,
   "metadata": {},
   "outputs": [],
   "source": [
    "dfpred=pd.melt(dfsales2.reset_index(), id_vars=[\"Cluster\", \"Brand Group\"], \n",
    "                  var_name=\"Date\", value_name=\"Value\")"
   ]
  },
  {
   "cell_type": "code",
   "execution_count": 39,
   "metadata": {},
   "outputs": [],
   "source": [
    "dfindexes=dfsales2.reset_index()[[\"Cluster\",\"Brand Group\"]]"
   ]
  },
  {
   "cell_type": "markdown",
   "metadata": {},
   "source": [
    "## Build features"
   ]
  },
  {
   "cell_type": "markdown",
   "metadata": {},
   "source": [
    "- Get last 7 months for forecasting January 2018: December + 6 lag values"
   ]
  },
  {
   "cell_type": "code",
   "execution_count": 43,
   "metadata": {},
   "outputs": [],
   "source": [
    "#      'Jan 2017', 'Feb 2017', 'Mar 2017', 'Apr 2017', 'May 2017', \n",
    "dfpred=dfsales2.reset_index()[[\n",
    " 'Jun 2017', 'Jul 2017', 'Aug 2017', 'Sep 2017', 'Oct 2017', 'Nov 2017', 'Dec 2017']]"
   ]
  },
  {
   "cell_type": "markdown",
   "metadata": {},
   "source": [
    "- Set month code to 11 (December)"
   ]
  },
  {
   "cell_type": "code",
   "execution_count": 44,
   "metadata": {},
   "outputs": [],
   "source": [
    "dfpred[\"Month\"]=11"
   ]
  },
  {
   "cell_type": "markdown",
   "metadata": {},
   "source": [
    "- Set feature names"
   ]
  },
  {
   "cell_type": "code",
   "execution_count": 45,
   "metadata": {},
   "outputs": [],
   "source": [
    "#       'Lag-11', 'Lag-10', 'Lag-9', 'Lag-8', 'Lag-7',\n",
    "dfpred.columns=[\n",
    " 'Lag-6', 'Lag-5', 'Lag-4',\n",
    "       'Lag-3', 'Lag-2', 'Lag-1','Actual','Month']"
   ]
  },
  {
   "cell_type": "markdown",
   "metadata": {},
   "source": [
    "- Build trend features"
   ]
  },
  {
   "cell_type": "code",
   "execution_count": 46,
   "metadata": {},
   "outputs": [],
   "source": [
    "dfpred=add_trend(dfpred,\"short_sales_trend\",[1,2,3])\n",
    "dfpred=add_trend(dfpred,\"mid_sales_trend\",[1,2,3,4,5,6])"
   ]
  },
  {
   "cell_type": "code",
   "execution_count": 47,
   "metadata": {},
   "outputs": [
    {
     "data": {
      "text/html": [
       "<div>\n",
       "<style scoped>\n",
       "    .dataframe tbody tr th:only-of-type {\n",
       "        vertical-align: middle;\n",
       "    }\n",
       "\n",
       "    .dataframe tbody tr th {\n",
       "        vertical-align: top;\n",
       "    }\n",
       "\n",
       "    .dataframe thead th {\n",
       "        text-align: right;\n",
       "    }\n",
       "</style>\n",
       "<table border=\"1\" class=\"dataframe\">\n",
       "  <thead>\n",
       "    <tr style=\"text-align: right;\">\n",
       "      <th></th>\n",
       "      <th>Lag-6</th>\n",
       "      <th>Lag-5</th>\n",
       "      <th>Lag-4</th>\n",
       "      <th>Lag-3</th>\n",
       "      <th>Lag-2</th>\n",
       "      <th>Lag-1</th>\n",
       "      <th>Actual</th>\n",
       "      <th>Month</th>\n",
       "      <th>short_sales_trend</th>\n",
       "      <th>mid_sales_trend</th>\n",
       "    </tr>\n",
       "  </thead>\n",
       "  <tbody>\n",
       "    <tr>\n",
       "      <th>0</th>\n",
       "      <td>1471.551885</td>\n",
       "      <td>1632.173591</td>\n",
       "      <td>1627.574308</td>\n",
       "      <td>1608.715411</td>\n",
       "      <td>1538.061964</td>\n",
       "      <td>1574.399619</td>\n",
       "      <td>1381.174249</td>\n",
       "      <td>11</td>\n",
       "      <td>-835.000686</td>\n",
       "      <td>-835.000686</td>\n",
       "    </tr>\n",
       "    <tr>\n",
       "      <th>1</th>\n",
       "      <td>11.746420</td>\n",
       "      <td>7.310123</td>\n",
       "      <td>10.965185</td>\n",
       "      <td>5.803457</td>\n",
       "      <td>5.608148</td>\n",
       "      <td>8.537778</td>\n",
       "      <td>6.361481</td>\n",
       "      <td>11</td>\n",
       "      <td>-3.396975</td>\n",
       "      <td>-3.396975</td>\n",
       "    </tr>\n",
       "    <tr>\n",
       "      <th>2</th>\n",
       "      <td>-193.611296</td>\n",
       "      <td>180.088396</td>\n",
       "      <td>-126.788616</td>\n",
       "      <td>35.634313</td>\n",
       "      <td>177.382970</td>\n",
       "      <td>48.785139</td>\n",
       "      <td>-265.362597</td>\n",
       "      <td>11</td>\n",
       "      <td>-131.791255</td>\n",
       "      <td>-131.791255</td>\n",
       "    </tr>\n",
       "  </tbody>\n",
       "</table>\n",
       "</div>"
      ],
      "text/plain": [
       "         Lag-6        Lag-5        Lag-4        Lag-3        Lag-2  \\\n",
       "0  1471.551885  1632.173591  1627.574308  1608.715411  1538.061964   \n",
       "1    11.746420     7.310123    10.965185     5.803457     5.608148   \n",
       "2  -193.611296   180.088396  -126.788616    35.634313   177.382970   \n",
       "\n",
       "         Lag-1       Actual  Month  short_sales_trend  mid_sales_trend  \n",
       "0  1574.399619  1381.174249     11        -835.000686      -835.000686  \n",
       "1     8.537778     6.361481     11          -3.396975        -3.396975  \n",
       "2    48.785139  -265.362597     11        -131.791255      -131.791255  "
      ]
     },
     "execution_count": 47,
     "metadata": {},
     "output_type": "execute_result"
    }
   ],
   "source": [
    "dfpred.head(3)"
   ]
  },
  {
   "cell_type": "markdown",
   "metadata": {},
   "source": [
    "### Function to add new prediction to dataframe and continue iterating"
   ]
  },
  {
   "cell_type": "code",
   "execution_count": 48,
   "metadata": {},
   "outputs": [],
   "source": [
    "def add_values(pred_x, new_pred,month):\n",
    "    pred_x['Month']=month\n",
    "    \n",
    "    pred_x[\"Lag-6\"]=pred_x[\"Lag-5\"]\n",
    "    pred_x[\"Lag-5\"]=pred_x[\"Lag-4\"]\n",
    "    pred_x[\"Lag-4\"]=pred_x[\"Lag-3\"]\n",
    "    pred_x[\"Lag-3\"]=pred_x[\"Lag-2\"]\n",
    "    pred_x[\"Lag-2\"]=pred_x[\"Lag-1\"]\n",
    "    pred_x[\"Lag-1\"]=pred_x[\"Actual\"]\n",
    "    pred_x[\"Actual\"]=new_pred\n",
    "\n",
    "    pred_x=add_trend(pred_x,\"short_sales_trend\",[1,2,3])\n",
    "    pred_x=add_trend(pred_x,\"mid_sales_trend\",[1,2,3,4,5,6])\n",
    "\n",
    "    return pred_x"
   ]
  },
  {
   "cell_type": "code",
   "execution_count": 54,
   "metadata": {},
   "outputs": [],
   "source": [
    "list_predictions=[]"
   ]
  },
  {
   "cell_type": "code",
   "execution_count": 51,
   "metadata": {},
   "outputs": [],
   "source": [
    "# 'Lag-7', 'Lag-8','Lag-9', 'Lag-10', 'Lag-11',\n",
    "xpred=dfpred[['Month', 'Actual',\n",
    "       'Lag-1', 'Lag-2', 'Lag-3', 'Lag-4', 'Lag-5', 'Lag-6', 'short_sales_trend','mid_sales_trend']]"
   ]
  },
  {
   "cell_type": "markdown",
   "metadata": {},
   "source": [
    "## Make iterated prediction\n",
    "- Forecast next month and use the prediction to make the forecasting of the following month\n",
    "- Make average from predictions of model list"
   ]
  },
  {
   "cell_type": "code",
   "execution_count": 59,
   "metadata": {},
   "outputs": [
    {
     "name": "stdout",
     "output_type": "stream",
     "text": [
      "12 months forecasted\n"
     ]
    }
   ],
   "source": [
    "for i in range(12):\n",
    "    preds = [ m.predict(xpred) for m in models ]\n",
    "    preds = np.mean(preds,axis=0)\n",
    "    #print(preds)\n",
    "    #preds=regres.predict(xpred)\n",
    "    list_predictions.append(preds)\n",
    "    xpred=add_values(xpred, preds,i)\n",
    "print(str(len(list_predictions))+ \" months forecasted\")"
   ]
  },
  {
   "cell_type": "markdown",
   "metadata": {},
   "source": [
    "## Add predictions to dataframe"
   ]
  },
  {
   "cell_type": "code",
   "execution_count": 65,
   "metadata": {},
   "outputs": [
    {
     "data": {
      "text/html": [
       "<div>\n",
       "<style scoped>\n",
       "    .dataframe tbody tr th:only-of-type {\n",
       "        vertical-align: middle;\n",
       "    }\n",
       "\n",
       "    .dataframe tbody tr th {\n",
       "        vertical-align: top;\n",
       "    }\n",
       "\n",
       "    .dataframe thead th {\n",
       "        text-align: right;\n",
       "    }\n",
       "</style>\n",
       "<table border=\"1\" class=\"dataframe\">\n",
       "  <thead>\n",
       "    <tr style=\"text-align: right;\">\n",
       "      <th></th>\n",
       "      <th>Cluster</th>\n",
       "      <th>Brand Group</th>\n",
       "      <th>Month-0</th>\n",
       "      <th>Month-1</th>\n",
       "      <th>Month-2</th>\n",
       "      <th>Month-3</th>\n",
       "      <th>Month-4</th>\n",
       "      <th>Month-5</th>\n",
       "      <th>Month-6</th>\n",
       "      <th>Month-7</th>\n",
       "      <th>Month-8</th>\n",
       "      <th>Month-9</th>\n",
       "      <th>Month-10</th>\n",
       "      <th>Month-11</th>\n",
       "    </tr>\n",
       "  </thead>\n",
       "  <tbody>\n",
       "    <tr>\n",
       "      <th>0</th>\n",
       "      <td>Cluster 1</td>\n",
       "      <td>Brand Group 12</td>\n",
       "      <td>1427.080889</td>\n",
       "      <td>1416.320656</td>\n",
       "      <td>1417.975999</td>\n",
       "      <td>1413.123843</td>\n",
       "      <td>1407.940190</td>\n",
       "      <td>1402.379285</td>\n",
       "      <td>1394.692753</td>\n",
       "      <td>1381.074859</td>\n",
       "      <td>1382.389444</td>\n",
       "      <td>1379.024398</td>\n",
       "      <td>1376.138039</td>\n",
       "      <td>1374.418002</td>\n",
       "    </tr>\n",
       "    <tr>\n",
       "      <th>1</th>\n",
       "      <td>Cluster 1</td>\n",
       "      <td>Brand Group 13</td>\n",
       "      <td>76.634345</td>\n",
       "      <td>82.043334</td>\n",
       "      <td>84.551089</td>\n",
       "      <td>86.758763</td>\n",
       "      <td>88.414902</td>\n",
       "      <td>89.524572</td>\n",
       "      <td>92.370598</td>\n",
       "      <td>90.145255</td>\n",
       "      <td>93.818287</td>\n",
       "      <td>94.456372</td>\n",
       "      <td>95.039358</td>\n",
       "      <td>95.698797</td>\n",
       "    </tr>\n",
       "  </tbody>\n",
       "</table>\n",
       "</div>"
      ],
      "text/plain": [
       "     Cluster     Brand Group      Month-0      Month-1      Month-2  \\\n",
       "0  Cluster 1  Brand Group 12  1427.080889  1416.320656  1417.975999   \n",
       "1  Cluster 1  Brand Group 13    76.634345    82.043334    84.551089   \n",
       "\n",
       "       Month-3      Month-4      Month-5      Month-6      Month-7  \\\n",
       "0  1413.123843  1407.940190  1402.379285  1394.692753  1381.074859   \n",
       "1    86.758763    88.414902    89.524572    92.370598    90.145255   \n",
       "\n",
       "       Month-8      Month-9     Month-10     Month-11  \n",
       "0  1382.389444  1379.024398  1376.138039  1374.418002  \n",
       "1    93.818287    94.456372    95.039358    95.698797  "
      ]
     },
     "execution_count": 65,
     "metadata": {},
     "output_type": "execute_result"
    }
   ],
   "source": [
    "for d in range(len(list_predictions)):\n",
    "    dfindexes['Month-%s' % d]=list_predictions[d]\n",
    "dfindexes.head(2)"
   ]
  },
  {
   "cell_type": "markdown",
   "metadata": {},
   "source": [
    "## Prepare submission"
   ]
  },
  {
   "cell_type": "code",
   "execution_count": 487,
   "metadata": {},
   "outputs": [
    {
     "name": "stdout",
     "output_type": "stream",
     "text": [
      "Cluster 1 Brand Group 17 ['Brand Group 17']\n",
      "Cluster 2 Brand Group 17 ['Brand Group 17']\n",
      "Cluster 3 Brand Group 17 ['Brand Group 17']\n",
      "Cluster 4 Brand Group 17 ['Brand Group 17']\n",
      "Cluster 5 Brand Group 17 ['Brand Group 17']\n",
      "Cluster 8 Brand Group 17 ['Brand Group 17']\n",
      "Cluster 9 Brand Group 17 ['Brand Group 17']\n",
      "Cluster 10 Brand Group 17 ['Brand Group 17']\n",
      "Cluster 1 Brand Group 24 ['Brand Group 24']\n",
      "Cluster 3 Brand Group 24 ['Brand Group 24']\n",
      "Cluster 4 Brand Group 24 ['Brand Group 24']\n",
      "Cluster 5 Brand Group 24 ['Brand Group 24']\n",
      "Cluster 8 Brand Group 24 ['Brand Group 24']\n",
      "Cluster 9 Brand Group 24 ['Brand Group 24']\n",
      "Cluster 10 Brand Group 24 ['Brand Group 24']\n",
      "Cluster 1 Brand Group 30 ['Brand Group 30']\n",
      "Cluster 2 Brand Group 30 ['Brand Group 30']\n",
      "Cluster 4 Brand Group 30 ['Brand Group 30']\n",
      "Cluster 5 Brand Group 30 ['Brand Group 30']\n",
      "Cluster 7 Brand Group 30 ['Brand Group 30']\n",
      "Cluster 8 Brand Group 30 ['Brand Group 30']\n",
      "Cluster 9 Brand Group 30 ['Brand Group 30']\n",
      "Cluster 10 Brand Group 30 ['Brand Group 30']\n",
      "Cluster 1 Brand Group 31 ['Brand Group 31']\n",
      "Cluster 2 Brand Group 31 ['Brand Group 31']\n",
      "Cluster 3 Brand Group 31 ['Brand Group 31']\n",
      "Cluster 4 Brand Group 31 ['Brand Group 31']\n",
      "Cluster 5 Brand Group 31 ['Brand Group 31']\n",
      "Cluster 8 Brand Group 31 ['Brand Group 31']\n",
      "Cluster 9 Brand Group 31 ['Brand Group 31']\n",
      "Cluster 10 Brand Group 31 ['Brand Group 31']\n",
      "Cluster 1 Brand Group 36 ['Brand Group 36']\n",
      "Cluster 2 Brand Group 36 ['Brand Group 36']\n",
      "Cluster 3 Brand Group 36 ['Brand Group 36']\n",
      "Cluster 4 Brand Group 36 ['Brand Group 36']\n",
      "Cluster 5 Brand Group 36 ['Brand Group 36']\n",
      "Cluster 8 Brand Group 36 ['Brand Group 36']\n",
      "Cluster 9 Brand Group 36 ['Brand Group 36']\n",
      "Cluster 10 Brand Group 36 ['Brand Group 36']\n",
      "Cluster 1 Brand Group 41 ['Brand Group 41']\n",
      "Cluster 2 Brand Group 41 ['Brand Group 41']\n",
      "Cluster 3 Brand Group 41 ['Brand Group 41']\n",
      "Cluster 4 Brand Group 41 ['Brand Group 41']\n",
      "Cluster 5 Brand Group 41 ['Brand Group 41']\n",
      "Cluster 7 Brand Group 41 ['Brand Group 41']\n",
      "Cluster 8 Brand Group 41 ['Brand Group 41']\n",
      "Cluster 9 Brand Group 41 ['Brand Group 41']\n",
      "Cluster 10 Brand Group 41 ['Brand Group 41']\n",
      "Cluster 1 Brand Group 51, 73, 90 ['Brand Group 51', 'Brand Group 73', 'Brand Group 90']\n",
      "Cluster 2 Brand Group 51, 73, 90 ['Brand Group 51', 'Brand Group 73', 'Brand Group 90']\n",
      "Cluster 3 Brand Group 51, 73, 90 ['Brand Group 51', 'Brand Group 73', 'Brand Group 90']\n",
      "Cluster 4 Brand Group 51, 73, 90 ['Brand Group 51', 'Brand Group 73', 'Brand Group 90']\n",
      "Cluster 5 Brand Group 51, 73, 90 ['Brand Group 51', 'Brand Group 73', 'Brand Group 90']\n",
      "Cluster 7 Brand Group 51, 73, 90 ['Brand Group 51', 'Brand Group 73', 'Brand Group 90']\n",
      "Cluster 8 Brand Group 51, 73, 90 ['Brand Group 51', 'Brand Group 73', 'Brand Group 90']\n",
      "Cluster 9 Brand Group 51, 73, 90 ['Brand Group 51', 'Brand Group 73', 'Brand Group 90']\n",
      "Cluster 10 Brand Group 51, 73, 90 ['Brand Group 51', 'Brand Group 73', 'Brand Group 90']\n",
      "Cluster 1 Brand Group 96 97 ['Brand Group 96', 'Brand Group 97']\n",
      "Cluster 2 Brand Group 96 97 ['Brand Group 96', 'Brand Group 97']\n",
      "Cluster 3 Brand Group 96 97 ['Brand Group 96', 'Brand Group 97']\n",
      "Cluster 4 Brand Group 96 97 ['Brand Group 96', 'Brand Group 97']\n",
      "Cluster 5 Brand Group 96 97 ['Brand Group 96', 'Brand Group 97']\n",
      "Cluster 7 Brand Group 96 97 ['Brand Group 96', 'Brand Group 97']\n",
      "Cluster 8 Brand Group 96 97 ['Brand Group 96', 'Brand Group 97']\n",
      "Cluster 9 Brand Group 96 97 ['Brand Group 96', 'Brand Group 97']\n",
      "Cluster 10 Brand Group 96 97 ['Brand Group 96', 'Brand Group 97']\n",
      "Cluster 1 others ['Brand Group ']\n",
      "Cluster 2 others ['Brand Group ']\n",
      "Cluster 3 others ['Brand Group ']\n",
      "Cluster 4 others ['Brand Group ']\n",
      "Cluster 5 others ['Brand Group ']\n",
      "Cluster 7 others ['Brand Group ']\n",
      "Cluster 8 others ['Brand Group ']\n",
      "Cluster 9 others ['Brand Group ']\n",
      "Cluster 10 others ['Brand Group ']\n",
      "Cluster 1\n",
      "Cluster 2\n",
      "Cluster 3\n",
      "Cluster 4\n",
      "Cluster 5\n",
      "Cluster 7\n",
      "Cluster 8\n",
      "Cluster 9\n",
      "Cluster 10\n"
     ]
    }
   ],
   "source": [
    "import numpy as np\n",
    "dir_submission_template = 'Data_Novartis_Datathon-Results_Challenge1_Template.csv'\n",
    "\n",
    "submission_template = pd.read_csv(dir_submission_template)\n",
    "\n",
    "bg_set = set()\n",
    "\n",
    "#a = pd.DataFrame(final_res, columns=['Cluster', 'Brand Group', 'res'])\n",
    "\n",
    "for i, r in submission_template.iterrows():\n",
    "    bg = r['Brand Group'][12:].replace(',', '').split(' ')\n",
    "    bg_set.update(bg)\n",
    "    bg = [ 'Brand Group ' + str(i) for i in bg ]\n",
    "    print(r['Cluster'], r['Brand Group'], bg)\n",
    "    \n",
    "#    print(type(r['res']))\n",
    "    \n",
    "    res = dfindexes[dfindexes['Cluster'] == r['Cluster']]\n",
    "    res = [ rs[2:] for j, rs in res.iterrows() if rs['Brand Group'] in bg ]\n",
    "#    res = res['res']\n",
    "    res = np.sum(res, axis=0)\n",
    "    submission_template.iloc[i, 2:] = res\n",
    "    \n",
    "    \n",
    "for i, r in submission_template[submission_template['Brand Group'] == 'others'].iterrows():\n",
    "    print(r.Cluster)\n",
    "    \n",
    "    res = dfindexes[dfindexes['Cluster'] == r['Cluster']]\n",
    "    res1 = [ rs[2:] for j, rs in res.iterrows() if rs['Brand Group'][12:] not in bg_set ]\n",
    "\n",
    "    res2 = np.sum(res1, axis=0)\n",
    "    submission_template.iloc[i, 2:] = res2"
   ]
  },
  {
   "cell_type": "code",
   "execution_count": 488,
   "metadata": {},
   "outputs": [],
   "source": [
    "submission_template.to_csv(\"submission_merged.csv\",index=False)"
   ]
  },
  {
   "cell_type": "code",
   "execution_count": null,
   "metadata": {},
   "outputs": [],
   "source": []
  }
 ],
 "metadata": {
  "kernelspec": {
   "display_name": "Python [conda env:CDAC]",
   "language": "python",
   "name": "conda-env-CDAC-py"
  },
  "language_info": {
   "codemirror_mode": {
    "name": "ipython",
    "version": 3
   },
   "file_extension": ".py",
   "mimetype": "text/x-python",
   "name": "python",
   "nbconvert_exporter": "python",
   "pygments_lexer": "ipython3",
   "version": "3.6.4"
  }
 },
 "nbformat": 4,
 "nbformat_minor": 2
}
